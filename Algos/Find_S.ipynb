{
 "cells": [
  {
   "cell_type": "code",
   "execution_count": null,
   "metadata": {},
   "outputs": [],
   "source": [
    "Introduction : \n",
    "The find-S algorithm is a basic concept learning algorithm in machine learning. The find-S algorithm finds the most specific hypothesis that fits all the positive examples. We have to note here that the algorithm considers only those positive training example. The find-S algorithm starts with the most specific hypothesis and generalizes this hypothesis each time it fails to classify an observed positive training data. Hence, the Find-S algorithm moves from the most specific hypothesis to the most general hypothesis. \n",
    "\n",
    "Important Representation : \n",
    " \n",
    "\n",
    "? indicates that any value is acceptable for the attribute.\n",
    "specify a single required value ( e.g., Cold ) for the attribute.\n",
    "ϕindicates that no value is acceptable.\n",
    "The most general hypothesis is represented by: {?, ?, ?, ?, ?, ?}\n",
    "The most specific hypothesis is represented by: {ϕ, ϕ, ϕ, ϕ, ϕ, ϕ}\n",
    "Steps Involved In Find-S : \n",
    "\n",
    " \n",
    "\n",
    "Start with the most specific hypothesis. \n",
    "h = {ϕ, ϕ, ϕ, ϕ, ϕ, ϕ}\n",
    "Take the next example and if it is negative, then no changes occur to the hypothesis.\n",
    "If the example is positive and we find that our initial hypothesis is too specific then we update our current hypothesis to a general condition.\n",
    "Keep repeating the above steps till all the training examples are complete.\n",
    "After we have completed all the training examples we will have the final hypothesis when can use to classify the new examples."
   ]
  },
  {
   "cell_type": "code",
   "execution_count": 2,
   "metadata": {},
   "outputs": [],
   "source": [
    "import pandas as pd\n",
    "import csv"
   ]
  },
  {
   "cell_type": "code",
   "execution_count": 6,
   "metadata": {},
   "outputs": [
    {
     "name": "stdout",
     "output_type": "stream",
     "text": [
      "     Sky AirTemp Humidity    Wind Water  Forecast EnjoySport\n",
      "0  Sunny    Warm   Normal  Strong   Warm     Same        Yes\n",
      "1  Sunny    Warm     High  Strong   Warm     Same        Yes\n",
      "2  Rainy    Cold     High  Strong   Warm   Change         No\n",
      "3  Sunny    Warm     High  Strong   Cool   Change        Yes\n",
      "4  Sunny    Warm     High  Strong   Cool   Change         No\n",
      "5  Sunny    Warm     High  Strong   Cool   Change        Yes\n",
      "6    NaN     NaN      NaN     NaN    NaN      NaN        NaN\n"
     ]
    }
   ],
   "source": [
    "data = pd.read_csv(\"E:\\MIT-6\\ML\\ML Algos Lab\\Data\\Book1.csv\")\n",
    "columnLength = data.shape[1]\n",
    "print(data)"
   ]
  },
  {
   "cell_type": "code",
   "execution_count": 9,
   "metadata": {},
   "outputs": [],
   "source": [
    "h = ['0'] * (columnLength-1) #start from most specific hypothesis ie) all values are theta(null)\n",
    "hpos = []\n",
    "hneg = []"
   ]
  },
  {
   "cell_type": "code",
   "execution_count": 11,
   "metadata": {},
   "outputs": [],
   "source": [
    "for trainingExample in data.values:\n",
    "    if trainingExample[-1] != 'No':\n",
    "        hpos.append(list(trainingExample))\n",
    "    else:\n",
    "        hneg.append(list(trainingExample))"
   ]
  },
  {
   "cell_type": "code",
   "execution_count": 13,
   "metadata": {},
   "outputs": [],
   "source": [
    "for i in range(len(hpos)):\n",
    "    for j in range(columnLength-1):\n",
    "        if(h[j] == '0'):\n",
    "            h[j] = hpos[i][j]\n",
    "        if (h[j] != hpos[i][j]):\n",
    "            h[j] = '?'\n",
    "        else:\n",
    "            h[j] = hpos[i][j]"
   ]
  },
  {
   "cell_type": "code",
   "execution_count": 14,
   "metadata": {},
   "outputs": [
    {
     "name": "stdout",
     "output_type": "stream",
     "text": [
      "\n",
      "The positive Hypothses are\n",
      "[['Sunny', 'Warm', 'Normal', 'Strong', 'Warm', 'Same', 'Yes'], ['Sunny', 'Warm', 'High', 'Strong', 'Warm', 'Same', 'Yes'], ['Sunny', 'Warm', 'High', 'Strong', 'Cool', 'Change', 'Yes'], ['Sunny', 'Warm', 'High', 'Strong', 'Cool', 'Change', 'Yes'], [nan, nan, nan, nan, nan, nan, nan]]\n",
      "\n",
      "The negative Hypothesis are\n",
      "[['Rainy', 'Cold', 'High', 'Strong', 'Warm', 'Change', 'No'], ['Sunny', 'Warm', 'High', 'Strong', 'Cool', 'Change', 'No']]\n",
      "\n",
      "The Maximally Specific Hypothesis h is\n",
      "['?', '?', '?', '?', '?', '?']\n"
     ]
    }
   ],
   "source": [
    "print('\\nThe positive Hypothses are')\n",
    "print(hpos)\n",
    "print('\\nThe negative Hypothesis are')\n",
    "print(hneg)\n",
    "print('\\nThe Maximally Specific Hypothesis h is')\n",
    "print(h)"
   ]
  }
 ],
 "metadata": {
  "kernelspec": {
   "display_name": "Python 3",
   "language": "python",
   "name": "python3"
  },
  "language_info": {
   "codemirror_mode": {
    "name": "ipython",
    "version": 3
   },
   "file_extension": ".py",
   "mimetype": "text/x-python",
   "name": "python",
   "nbconvert_exporter": "python",
   "pygments_lexer": "ipython3",
   "version": "3.7.0"
  },
  "orig_nbformat": 4,
  "vscode": {
   "interpreter": {
    "hash": "fdb543c4eaccb2c43ef1f99da41737654f0c8d7aa960b0cd65bcf594bfbe5a9e"
   }
  }
 },
 "nbformat": 4,
 "nbformat_minor": 2
}
