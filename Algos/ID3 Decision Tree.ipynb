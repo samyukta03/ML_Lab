{
 "cells": [
  {
   "cell_type": "code",
   "execution_count": 1,
   "id": "b11c8894",
   "metadata": {},
   "outputs": [
    {
     "data": {
      "text/html": [
       "<div>\n",
       "<style scoped>\n",
       "    .dataframe tbody tr th:only-of-type {\n",
       "        vertical-align: middle;\n",
       "    }\n",
       "\n",
       "    .dataframe tbody tr th {\n",
       "        vertical-align: top;\n",
       "    }\n",
       "\n",
       "    .dataframe thead th {\n",
       "        text-align: right;\n",
       "    }\n",
       "</style>\n",
       "<table border=\"1\" class=\"dataframe\">\n",
       "  <thead>\n",
       "    <tr style=\"text-align: right;\">\n",
       "      <th></th>\n",
       "      <th>Outlook</th>\n",
       "      <th>Temperature</th>\n",
       "      <th>Humidity</th>\n",
       "      <th>Wind</th>\n",
       "      <th>Play Tennis</th>\n",
       "    </tr>\n",
       "  </thead>\n",
       "  <tbody>\n",
       "    <tr>\n",
       "      <th>0</th>\n",
       "      <td>Sunny</td>\n",
       "      <td>Hot</td>\n",
       "      <td>High</td>\n",
       "      <td>Weak</td>\n",
       "      <td>No</td>\n",
       "    </tr>\n",
       "    <tr>\n",
       "      <th>1</th>\n",
       "      <td>Sunny</td>\n",
       "      <td>Hot</td>\n",
       "      <td>High</td>\n",
       "      <td>Strong</td>\n",
       "      <td>No</td>\n",
       "    </tr>\n",
       "    <tr>\n",
       "      <th>2</th>\n",
       "      <td>Overcast</td>\n",
       "      <td>Hot</td>\n",
       "      <td>High</td>\n",
       "      <td>Weak</td>\n",
       "      <td>Yes</td>\n",
       "    </tr>\n",
       "    <tr>\n",
       "      <th>3</th>\n",
       "      <td>Rain</td>\n",
       "      <td>Mild</td>\n",
       "      <td>High</td>\n",
       "      <td>Weak</td>\n",
       "      <td>Yes</td>\n",
       "    </tr>\n",
       "    <tr>\n",
       "      <th>4</th>\n",
       "      <td>Rain</td>\n",
       "      <td>Cool</td>\n",
       "      <td>Normal</td>\n",
       "      <td>Weak</td>\n",
       "      <td>Yes</td>\n",
       "    </tr>\n",
       "  </tbody>\n",
       "</table>\n",
       "</div>"
      ],
      "text/plain": [
       "    Outlook Temperature Humidity    Wind Play Tennis\n",
       "0     Sunny         Hot     High    Weak          No\n",
       "1     Sunny         Hot     High  Strong          No\n",
       "2  Overcast         Hot     High    Weak         Yes\n",
       "3      Rain        Mild     High    Weak         Yes\n",
       "4      Rain        Cool   Normal    Weak         Yes"
      ]
     },
     "execution_count": 1,
     "metadata": {},
     "output_type": "execute_result"
    }
   ],
   "source": [
    "import pandas as pd\n",
    "import numpy as np\n",
    "data = pd.read_csv(r\"E:\\MIT-6\\ML\\ML Algos Lab\\Data\\PlayTennis.csv\")\n",
    "data.head()"
   ]
  },
  {
   "cell_type": "code",
   "execution_count": 2,
   "id": "3dea3a66",
   "metadata": {},
   "outputs": [],
   "source": [
    "#calculate entropy for entire data set ie) the infoD\n",
    "def calculateINFOD(train_data,targetlabel,classes):\n",
    "    total_row = train_data.shape[0]\n",
    "    tot_entr=0\n",
    "    for c in classes:\n",
    "        tot_classes = train_data[train_data[targetlabel]==c].shape[0]\n",
    "        tot_class_entr = -(tot_classes/total_row)*np.log2(tot_classes/total_row)\n",
    "        tot_entr += tot_class_entr\n",
    "    return tot_entr"
   ]
  },
  {
   "cell_type": "code",
   "execution_count": 3,
   "id": "cfd9a20c",
   "metadata": {},
   "outputs": [
    {
     "name": "stdout",
     "output_type": "stream",
     "text": [
      "0\n"
     ]
    }
   ],
   "source": [
    "#calculate the entropy for filtered data set \n",
    "def calcINFO_of_feature(feature_value,targetlabel,classes):\n",
    "    no_of_classes = feature_value.shape[0]\n",
    "    entropy = 0\n",
    "    \n",
    "    for c in classes:\n",
    "        targetlabel_classcount = feature_value[feature_value[targetlabel]==c].shape[0]\n",
    "        entropy_class = 0\n",
    "        if targetlabel_classcount != 0:\n",
    "            prob_class = targetlabel_classcount/no_of_classes\n",
    "            entropy_class -=  prob_class * np.log2(prob_class)\n",
    "        entropy += entropy_class\n",
    "    return entropy\n",
    "print(calcINFO_of_feature(data[data['Outlook'] == 'Sunny'],'Play Tennis',['yes','no']))"
   ]
  },
  {
   "cell_type": "code",
   "execution_count": 4,
   "id": "9beccd2e",
   "metadata": {},
   "outputs": [
    {
     "name": "stdout",
     "output_type": "stream",
     "text": [
      "nan\n"
     ]
    },
    {
     "name": "stderr",
     "output_type": "stream",
     "text": [
      "C:\\Users\\ADMIN\\AppData\\Roaming\\Python\\Python37\\site-packages\\ipykernel_launcher.py:7: RuntimeWarning: divide by zero encountered in log2\n",
      "  import sys\n",
      "C:\\Users\\ADMIN\\AppData\\Roaming\\Python\\Python37\\site-packages\\ipykernel_launcher.py:7: RuntimeWarning: invalid value encountered in double_scalars\n",
      "  import sys\n"
     ]
    }
   ],
   "source": [
    "#Calculate the gain for each feature \n",
    "def calINFORGAIN(feature_name,train_data,targetlabel,classes):\n",
    "    feature_list = train_data[feature_name].unique() #pass the unqiue values for each feature from all the rows of it\n",
    "    tot_rows = train_data.shape[0]\n",
    "    feature_info = 0.0\n",
    "    \n",
    "    for val in feature_list:\n",
    "        feature_valdata = train_data[train_data[feature_name]==val]\n",
    "        feature_valcount = feature_valdata.shape[0]\n",
    "        feature_valentropy = calcINFO_of_feature(feature_valdata,targetlabel,classes)\n",
    "        feature_valprob = feature_valcount/tot_rows\n",
    "        feature_info+=feature_valprob*feature_valentropy\n",
    "    return calculateINFOD(train_data,targetlabel,classes)-feature_info\n",
    "print(calINFORGAIN('Outlook',data,'Play Tennis',['yes','no']))"
   ]
  },
  {
   "cell_type": "code",
   "execution_count": 5,
   "id": "f77b01cd",
   "metadata": {},
   "outputs": [],
   "source": [
    "#find the feature with highest gain among the given features\n",
    "def calMaxGain(train_data,targetlabel,classes):\n",
    "    features_list = train_data.columns.drop(targetlabel)\n",
    "    max_gain = -1\n",
    "    max_gain_feature = None\n",
    "    for f in features_list:\n",
    "        feature_info_gain = calINFORGAIN(f,train_data,targetlabel,classes)\n",
    "        if max_gain  < feature_info_gain:\n",
    "            max_gain = feature_info_gain\n",
    "            max_gain_feature = f\n",
    "    return max_gain_feature"
   ]
  },
  {
   "cell_type": "code",
   "execution_count": 6,
   "id": "1abe0e07",
   "metadata": {},
   "outputs": [],
   "source": [
    "#generate a sub tree by adding nodes\n",
    "def generate_subtree(feature,train_data,targetlabel,classes):\n",
    "    feature_valcount_dict = train_data[feature].value_counts(sort=False)#a dictionary of the count of unqiue features values\n",
    "    tree = {} #node\n",
    "    for f_val,count in feature_valcount_dict.iteritems():\n",
    "        feature_valdata = train_data[train_data[feature]==f_val]\n",
    "        \n",
    "        assigned = False\n",
    "        for c in classes:\n",
    "            class_count = feature_valdata[feature_valdata[targetlabel]==c].shape[0]\n",
    "            \n",
    "            if class_count == count:\n",
    "                tree[f_val]=c\n",
    "                train_data= train_data[train_data[feature]!=f_val]\n",
    "                assigned = True\n",
    "        if not assigned:\n",
    "            tree[f_val]=\"?\"\n",
    "        \n",
    "        return tree,train_data          "
   ]
  },
  {
   "cell_type": "code",
   "execution_count": 7,
   "id": "cbae8c74",
   "metadata": {},
   "outputs": [],
   "source": [
    "def make_tree(root, prev_feature_value, train_data, targetlabel, class_list):\n",
    "    if train_data.shape[0] != 0: #if dataset becomes enpty after updating\n",
    "        max_info_feature = calMaxGain(train_data, targetlabel, class_list) #most informative feature\n",
    "        tree, train_data = generate_subtree(max_info_feature, train_data, targetlabel, class_list) #getting tree node and updated dataset\n",
    "        next_root = None\n",
    "        \n",
    "        if prev_feature_value != None: #add to intermediate node of the tree\n",
    "            root[prev_feature_value] = dict()\n",
    "            root[prev_feature_value][max_info_feature] = tree\n",
    "            next_root = root[prev_feature_value][max_info_feature]\n",
    "        else: #add to root of the tree\n",
    "            root[max_info_feature] = tree\n",
    "            next_root = root[max_info_feature]\n",
    "        \n",
    "        for node, branch in list(next_root.items()): #iterating the tree node\n",
    "            if branch == \"?\": #if it is expandable\n",
    "                feature_value_data = train_data[train_data[max_info_feature] == node] #using the updated dataset\n",
    "                make_tree(next_root, node, feature_value_data, targetlabel, class_list) #recursive call with updated dataset\n"
   ]
  },
  {
   "cell_type": "code",
   "execution_count": 8,
   "id": "541ecaa5",
   "metadata": {},
   "outputs": [],
   "source": [
    "def id3(train_data_m, targetlabel):\n",
    "    train_data = train_data_m.copy() #getting a copy of the dataset\n",
    "    tree = {} #tree which will be updated\n",
    "    class_list = train_data[targetlabel].unique() #getting unqiue classes of the label\n",
    "    make_tree(tree, None, train_data, targetlabel, class_list) #start calling recursion\n",
    "    return tree"
   ]
  },
  {
   "cell_type": "code",
   "execution_count": 10,
   "id": "8141e099",
   "metadata": {},
   "outputs": [
    {
     "name": "stdout",
     "output_type": "stream",
     "text": [
      "{'Outlook': {'Rain': {'Wind': {'Weak': 'Yes'}}}}\n"
     ]
    }
   ],
   "source": [
    "tree = id3(data,'Play Tennis')\n",
    "print(tree)"
   ]
  },
  {
   "cell_type": "code",
   "execution_count": null,
   "id": "7fac47bf",
   "metadata": {},
   "outputs": [],
   "source": []
  }
 ],
 "metadata": {
  "kernelspec": {
   "display_name": "Python 3",
   "language": "python",
   "name": "python3"
  },
  "language_info": {
   "codemirror_mode": {
    "name": "ipython",
    "version": 3
   },
   "file_extension": ".py",
   "mimetype": "text/x-python",
   "name": "python",
   "nbconvert_exporter": "python",
   "pygments_lexer": "ipython3",
   "version": "3.7.0"
  },
  "vscode": {
   "interpreter": {
    "hash": "fdb543c4eaccb2c43ef1f99da41737654f0c8d7aa960b0cd65bcf594bfbe5a9e"
   }
  }
 },
 "nbformat": 4,
 "nbformat_minor": 5
}
