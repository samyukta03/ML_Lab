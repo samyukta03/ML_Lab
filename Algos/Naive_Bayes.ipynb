{
 "cells": [
  {
   "cell_type": "code",
   "execution_count": 6,
   "id": "63fe5634",
   "metadata": {},
   "outputs": [],
   "source": [
    "import pandas as pd\n",
    "import numpy as ny\n"
   ]
  },
  {
   "cell_type": "code",
   "execution_count": 7,
   "id": "c2f4edc1",
   "metadata": {},
   "outputs": [
    {
     "name": "stdout",
     "output_type": "stream",
     "text": [
      "            Age  Income Marital Status Credit Rating Buys Car\n",
      "0         Youth    High             No          Fair       No\n",
      "1         Youth    High             No     Excellent       No\n",
      "2   Middle Aged    High             No          Fair      Yes\n",
      "3        Senior  Medium             No          Fair      Yes\n",
      "4        Senior     Low            Yes          Fair      Yes\n",
      "5        Senior     Low            Yes     Excellent       No\n",
      "6   Middle Aged     Low            Yes     Excellent      Yes\n",
      "7         Youth  Medium             No          Fair       No\n",
      "8         Youth     Low            Yes          Fair      Yes\n",
      "9        Senior  Medium            Yes          Fair      Yes\n",
      "10        Youth  Medium            Yes     Excellent      Yes\n",
      "11  Middle Aged  Medium             No     Excellent      Yes\n",
      "12  Middle Aged    High            Yes          Fair      Yes\n",
      "13       Senior  Medium             No     Excellent       No\n"
     ]
    }
   ],
   "source": [
    "training = pd.read_csv(r\"C:\\Users\\student\\Desktop\\2020503540 ML\\excel_csv_data\\Buys_car.csv\")\n",
    "print(training)"
   ]
  },
  {
   "cell_type": "code",
   "execution_count": 13,
   "id": "f1225d65",
   "metadata": {},
   "outputs": [],
   "source": [
    "def prior_prob(train_data,target):\n",
    "    #find the prob for the buys car=yes and buys car=no\n",
    "    target_class=sorted(list(train_data[target].unique()))\n",
    "    print(\"Target classes is\",target_class)\n",
    "    priorprob = []\n",
    "    for i in target_class:\n",
    "        priorprob.append(len(train_data[train_data[target]==i])/len(train_data))\n",
    "    print(\"Prior probability\",priorprob)\n",
    "    return priorprob\n",
    "    "
   ]
  },
  {
   "cell_type": "code",
   "execution_count": 14,
   "id": "1f4502ff",
   "metadata": {},
   "outputs": [],
   "source": [
    "def likelihood(train_data,features,values,target,C):\n",
    "    featureslist = list(train_data.columns)\n",
    "    train_data = train_data[train_data[target]==C]\n",
    "    p_x_given_c = len(train_data[train_data[features]==values])/len(train_data)\n",
    "    return p_x_given_c"
   ]
  },
  {
   "cell_type": "code",
   "execution_count": 17,
   "id": "89094228",
   "metadata": {},
   "outputs": [],
   "source": [
    "def naivebayes_algo(train_data,test_row,target):\n",
    "    featureslist = list(train_data.columns)[:-1]\n",
    "    priorprob = prior_prob(train_data,target)\n",
    "    #calc Ci\n",
    "    C = sorted(list(train_data[target].unique()))\n",
    "    print(\"Target class labels are\",C)\n",
    "    likelihoodprob = [1]*len(C)\n",
    "    for j in range(len(C)):\n",
    "        for i in range(len(featureslist)):\n",
    "            likelihoodprob[j]*=likelihood(train_data,featureslist[i],test_row[i],target,C[j])\n",
    "    print(\"Likelihood prob \",likelihoodprob)\n",
    "    posterior = [1]*len(C)\n",
    "    max_prob=0\n",
    "    temp=0 #label for the predicted column\n",
    "    for i in range(len(C)):\n",
    "        posterior[i]=likelihoodprob[i]*priorprob[i]\n",
    "        if max_prob < posterior[i]:\n",
    "            max_prob = posterior[i]\n",
    "            temp = C[i]\n",
    "    print(\"Predicted probabilites for test sample \",posterior)\n",
    "    print(\"Answer is\",round(max_prob,3),\" class = \",temp)\n",
    "    return temp \n",
    "    "
   ]
  },
  {
   "cell_type": "code",
   "execution_count": 19,
   "id": "2287e97a",
   "metadata": {},
   "outputs": [
    {
     "name": "stdout",
     "output_type": "stream",
     "text": [
      "Target classes is ['No', 'Yes']\n",
      "Prior probability [0.35714285714285715, 0.6428571428571429]\n",
      "Target class labels are ['No', 'Yes']\n",
      "Likelihood prob  [0.1152, 0.005486968449931412]\n",
      "Predicted probabilites for test sample  [0.04114285714285714, 0.0035273368606701934]\n",
      "Answer is 0.041  class =  No\n",
      "WILL NOT BUY A CAR\n"
     ]
    }
   ],
   "source": [
    "test_row = ['Youth','High','No','Excellent']\n",
    "ans = naivebayes_algo(training,test_row,'Buys Car')\n",
    "if ans == \"No\":\n",
    "    print(\"WILL NOT BUY A CAR\")\n",
    "else:\n",
    "    print(\"WILL BUY A CAR\")"
   ]
  },
  {
   "cell_type": "code",
   "execution_count": null,
   "id": "07c611b6",
   "metadata": {},
   "outputs": [],
   "source": []
  }
 ],
 "metadata": {
  "kernelspec": {
   "display_name": "Python 3 (ipykernel)",
   "language": "python",
   "name": "python3"
  },
  "language_info": {
   "codemirror_mode": {
    "name": "ipython",
    "version": 3
   },
   "file_extension": ".py",
   "mimetype": "text/x-python",
   "name": "python",
   "nbconvert_exporter": "python",
   "pygments_lexer": "ipython3",
   "version": "3.9.13"
  }
 },
 "nbformat": 4,
 "nbformat_minor": 5
}
