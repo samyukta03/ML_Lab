{
 "cells": [
  {
   "cell_type": "code",
   "execution_count": 3,
   "id": "daee4417",
   "metadata": {},
   "outputs": [
    {
     "name": "stdout",
     "output_type": "stream",
     "text": [
      "     Outlook Temperature Humidity    Wind Play Tennis\n",
      "0      Sunny         Hot     High    Weak          No\n",
      "1      Sunny         Hot     High  Strong          No\n",
      "2   Overcast         Hot     High    Weak         Yes\n",
      "3       Rain        Mild     High    Weak         Yes\n",
      "4       Rain        Cool   Normal    Weak         Yes\n",
      "5       Rain        Cool   Normal  Strong          No\n",
      "6   Overcast        Cool   Normal  Strong         Yes\n",
      "7      Sunny        Mild     High    Weak          No\n",
      "8      Sunny        Cool   Normal    Weak         Yes\n",
      "9       Rain        Mild   Normal    Weak         Yes\n",
      "10     Sunny        Mild   Normal  Strong         Yes\n",
      "11  Overcast        Mild     High  Strong         Yes\n",
      "12  Overcast         Hot   Normal    Weak         Yes\n",
      "13      Rain        Mild     High  Strong          No\n"
     ]
    }
   ],
   "source": [
    "import pandas as pd\n",
    "import numpy as np\n",
    "\n",
    "Data = pd.read_csv(r\"E:\\MIT-6\\ML\\ML Algos Lab\\Data\\PlayTennis.csv\")\n",
    "print(Data)"
   ]
  },
  {
   "cell_type": "code",
   "execution_count": 4,
   "id": "3f4b6645",
   "metadata": {},
   "outputs": [],
   "source": [
    "\n",
    "#Calculating the entropy for the whole dataset (Based on no of yes's and no's)\n",
    "def totalEntropy(df, labelname, labellist):\n",
    "    rows = df.shape[0]\n",
    "    entropy = 0\n",
    "    \n",
    "    for cname in labellist:\n",
    "        cnt = df[df[labelname] == cname].shape[0]\n",
    "        classEntropy = -(cnt/rows)*np.log2(cnt/rows)\n",
    "        entropy += classEntropy #-(yes/tot(log2(yes/tot)+no/tot(log2(no/tot)))\n",
    "        \n",
    "    return entropy"
   ]
  },
  {
   "cell_type": "code",
   "execution_count": 5,
   "id": "75718f87",
   "metadata": {},
   "outputs": [],
   "source": [
    "#Calculating entropy for a specific feature\n",
    "def specificEntropy(fval, labelname, labellist):\n",
    "    cnt = fval.shape[0]\n",
    "    entropy = 0\n",
    "    \n",
    "    for cname in labellist : \n",
    "        rows = fval[fval[labelname] == cname].shape[0]\n",
    "        classentropy =0\n",
    "        if rows != 0:\n",
    "            classProb = rows/cnt\n",
    "            classentropy = -classProb * np.log2(classProb)\n",
    "        entropy += classentropy\n",
    "        \n",
    "    return entropy\n"
   ]
  },
  {
   "cell_type": "code",
   "execution_count": 6,
   "id": "584fdf48",
   "metadata": {},
   "outputs": [],
   "source": [
    "#Calculating split info gain ratio for each feature\n",
    "def splitInfoGainRatio(fname, df,labelname, labellist):\n",
    "    fvals = df[fname].unique()\n",
    "    rows = df.shape[0]\n",
    "    finfo = 0.0\n",
    "    splitinfo = 0.0\n",
    "    \n",
    "    for fval in fvals:\n",
    "        fdata = df[df[fname] == fval] #Storing the rows with gn feature val\n",
    "        fvalCnt = fdata.shape[0]\n",
    "        fvalProb = fvalCnt / rows # count of that value by the total number of rows.\n",
    "        finfo += fvalProb*specificEntropy(fdata, labelname, labellist)\n",
    "        splitinfo -= fvalProb*np.log2(fvalProb) #(nothig just -3/4*log2(3/4)-1/4*log2(1/4))\n",
    "    #if split=0, gain ratio will lead to div by 0 so instead dir return 0    \n",
    "    if splitinfo == 0:\n",
    "        return 0\n",
    "    else:\n",
    "        return (totalEntropy(df,labelname, labellist) - finfo) / splitinfo # gain(which is infogain(feature)-infoD)/split info gain\n",
    "\n"
   ]
  },
  {
   "cell_type": "code",
   "execution_count": 7,
   "id": "d38ac7f9",
   "metadata": {},
   "outputs": [],
   "source": [
    "\n",
    "#Finding the most informative feature using split info gain ratio\n",
    "def findMaxGain(df, labelname, labellist):\n",
    "    flist = df.columns.drop(labelname)\n",
    "    \n",
    "    maxinfogain = -1\n",
    "    maxinfofeat = None\n",
    "    \n",
    "    for f in flist:\n",
    "        finfogain = splitInfoGainRatio(f,df,labelname, labellist) #finding gainvalue for each feature\n",
    "        if maxinfogain < finfogain :\n",
    "            maxinfogain = finfogain\n",
    "            maxinfofeat = f                             #finding the maximum gain value\n",
    "            \n",
    "    return maxinfofeat"
   ]
  },
  {
   "cell_type": "code",
   "execution_count": 8,
   "id": "16899ced",
   "metadata": {},
   "outputs": [],
   "source": [
    "#Selecting the next most informative node and adding it as a branch to the dtree\n",
    "def makeSubtree(fname, df, labelname, labellist):\n",
    "    fvalcnt = df[fname].value_counts(sort = False)\n",
    "    tree = {}\n",
    "    \n",
    "    for fval, cnt in fvalcnt.iteritems():\n",
    "        fvalData = df[df[fname] == fval ]\n",
    "        \n",
    "        flag = False\n",
    "        \n",
    "        for cname in labellist : \n",
    "            classcnt = fvalData[fvalData[labelname] == cname].shape[0]\n",
    "            \n",
    "            if classcnt == cnt : \n",
    "                tree[fval] = cname\n",
    "                df = df[df[fname] != fval]\n",
    "                flag = True\n",
    "        if not flag :\n",
    "            tree[fval] =\"?\"\n",
    "    return tree, df\n"
   ]
  },
  {
   "cell_type": "code",
   "execution_count": 9,
   "id": "99be44f2",
   "metadata": {},
   "outputs": [],
   "source": [
    "def makeDTree(root, prev, df, labelname, labellist):\n",
    "    if df.shape[0] !=0:\n",
    "        maxInfo = findMaxGain(df, labelname, labellist)\n",
    "        tree , df = makeSubtree(maxInfo, df, labelname,labellist)\n",
    "        nextNode = None\n",
    "        \n",
    "        if prev != None:\n",
    "            root[prev] = dict()\n",
    "            root[prev][maxInfo] = tree\n",
    "            nextNode = root[prev][maxInfo]\n",
    "        else : \n",
    "            root[maxInfo] = tree\n",
    "            nextNode = root[maxInfo]\n",
    "        \n",
    "        for node, branch in list(nextNode.items()) :\n",
    "            if branch =='?':\n",
    "                fvaldata = df[df[maxInfo] == node]\n",
    "                makeDTree(nextNode,node, fvaldata, labelname, labellist)"
   ]
  },
  {
   "cell_type": "code",
   "execution_count": 10,
   "id": "e6e77d0c",
   "metadata": {},
   "outputs": [],
   "source": [
    "def id3DecisionTree(df1, labelname):\n",
    "    df = df1.copy()\n",
    "    tree = {}\n",
    "    labellist = df[labelname].unique()\n",
    "    makeDTree(tree, None, df, labelname, labellist)\n",
    "    return tree"
   ]
  },
  {
   "cell_type": "code",
   "execution_count": 11,
   "id": "3e941616",
   "metadata": {},
   "outputs": [
    {
     "name": "stdout",
     "output_type": "stream",
     "text": [
      "{'Outlook': {'Rain': {'Wind': {'Weak': 'Yes', 'Strong': 'No'}}, 'Sunny': {'Humidity': {'Normal': 'Yes', 'High': 'No'}}, 'Overcast': 'Yes'}}\n"
     ]
    }
   ],
   "source": [
    "dtree = id3DecisionTree(Data,'Play Tennis')\n",
    "print(dtree)\n"
   ]
  },
  {
   "cell_type": "code",
   "execution_count": null,
   "id": "250f3ec7",
   "metadata": {},
   "outputs": [],
   "source": []
  }
 ],
 "metadata": {
  "kernelspec": {
   "display_name": "Python 3",
   "language": "python",
   "name": "python3"
  },
  "language_info": {
   "codemirror_mode": {
    "name": "ipython",
    "version": 3
   },
   "file_extension": ".py",
   "mimetype": "text/x-python",
   "name": "python",
   "nbconvert_exporter": "python",
   "pygments_lexer": "ipython3",
   "version": "3.7.0"
  },
  "vscode": {
   "interpreter": {
    "hash": "fdb543c4eaccb2c43ef1f99da41737654f0c8d7aa960b0cd65bcf594bfbe5a9e"
   }
  }
 },
 "nbformat": 4,
 "nbformat_minor": 5
}
