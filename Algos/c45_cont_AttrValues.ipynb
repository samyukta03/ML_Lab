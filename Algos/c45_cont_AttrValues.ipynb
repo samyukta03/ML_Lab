{
 "cells": [
  {
   "cell_type": "code",
   "execution_count": null,
   "metadata": {},
   "outputs": [],
   "source": [
    "import pandas as pd\n",
    "import numpy as np\n",
    "\n",
    "Data = pd.read_csv(r\"E:\\MIT-6\\ML\\ML Algos Lab\\Data\\PlayTennis.csv\")\n",
    "\n",
    "# Define a function to split the data based on a continuous attribute and a split value\n",
    "def split_continuous_data(df, feature_name, split_value):\n",
    "    left_df = df[df[feature_name] <= split_value]\n",
    "    right_df = df[df[feature_name] > split_value]\n",
    "    return left_df, right_df\n",
    "\n",
    "# Calculate the entropy for the whole dataset (Based on no of yes's and no's)\n",
    "def totalEntropy(df, labelname, labellist):\n",
    "    rows = df.shape[0]\n",
    "    entropy = 0\n",
    "    \n",
    "    for cname in labellist:\n",
    "        cnt = df[df[labelname] == cname].shape[0]\n",
    "        classEntropy = -(cnt/rows)*np.log2(cnt/rows)\n",
    "        entropy += classEntropy\n",
    "        \n",
    "    return entropy\n",
    "\n",
    "# Calculate the entropy for a specific feature\n",
    "def specificEntropy(fval, labelname, labellist):\n",
    "    cnt = fval.shape[0]\n",
    "    entropy = 0\n",
    "    \n",
    "    for cname in labellist : \n",
    "        rows = fval[fval[labelname] == cname].shape[0]\n",
    "        classentropy = 0\n",
    "        if rows != 0:\n",
    "            classProb = rows/cnt\n",
    "            classentropy = -classProb * np.log2(classProb)\n",
    "        entropy += classentropy\n",
    "        \n",
    "    return entropy\n",
    "\n",
    "# Calculate the split info gain ratio for each feature\n",
    "def splitInfoGainRatio(fname, df,labelname, labellist):\n",
    "    fvals = sorted(df[fname].unique()) # sort the unique values of the attribute in increasing order\n",
    "    rows = df.shape[0]\n",
    "    finfo = 0.0\n",
    "    splitinfo = 0.0\n",
    "    splitpoints = [(fvals[i] + fvals[i+1]) / 2 for i in range(len(fvals) - 1)] # calculate the midpoint values as potential split points\n",
    "    \n",
    "    for sp in splitpoints:\n",
    "        fdata1 = df[df[fname] < sp] # rows with values less than split point\n",
    "        fdata2 = df[df[fname] >= sp] # rows with values greater than or equal to split point\n",
    "        fvalCnt1 = fdata1.shape[0]\n",
    "        fvalCnt2 = fdata2.shape[0]\n",
    "        fvalProb1 = fvalCnt1 / rows\n",
    "        fvalProb2 = fvalCnt2 / rows\n",
    "        finfo += (fvalProb1*specificEntropy(fdata1, labelname, labellist) + fvalProb2*specificEntropy(fdata2, labelname, labellist))\n",
    "        splitinfo -= (fvalProb1*np.log2(fvalProb1) + fvalProb2*np.log2(fvalProb2))\n",
    "    \n",
    "    #if split=0, gain ratio will lead to div by 0 so instead return 0\n",
    "    if splitinfo == 0:\n",
    "        return 0\n",
    "    else:\n",
    "        return (totalEntropy(df,labelname, labellist) - finfo) / splitinfo"
   ]
  }
 ],
 "metadata": {
  "kernelspec": {
   "display_name": "Python 3",
   "language": "python",
   "name": "python3"
  },
  "language_info": {
   "name": "python",
   "version": "3.7.0"
  },
  "orig_nbformat": 4,
  "vscode": {
   "interpreter": {
    "hash": "fdb543c4eaccb2c43ef1f99da41737654f0c8d7aa960b0cd65bcf594bfbe5a9e"
   }
  }
 },
 "nbformat": 4,
 "nbformat_minor": 2
}
