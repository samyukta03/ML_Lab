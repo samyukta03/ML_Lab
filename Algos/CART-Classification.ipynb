{
 "cells": [
  {
   "cell_type": "code",
   "execution_count": 2,
   "id": "ba8d2fc7",
   "metadata": {},
   "outputs": [],
   "source": [
    "import pandas as pd"
   ]
  },
  {
   "cell_type": "code",
   "execution_count": 3,
   "id": "cdfde5e9",
   "metadata": {},
   "outputs": [],
   "source": [
    "def GiniIndex(groups,classes):\n",
    "    no_of_instances = float(sum([len(grp) for grp in groups]))\n",
    "    giniIndex=0.0\n",
    "    for grp in groups:\n",
    "        n = float(len(grp))\n",
    "        if n==0:\n",
    "            continue\n",
    "        val = 0.0\n",
    "        for c in classes: #for each unqiue value of an attribute cal the yes and no count square it, add and store in val\n",
    "            p = [row[-1]for row in grp].count(c)/n\n",
    "            val += p*p\n",
    "        giniIndex += (1.0-val)* (n/no_of_instances) #here cal the val of 1-(yes^2+no^2) * total instaces of that attribute/total instances\n",
    "    return giniIndex"
   ]
  },
  {
   "cell_type": "code",
   "execution_count": 27,
   "id": "8a96e6a8",
   "metadata": {},
   "outputs": [],
   "source": [
    "def splittingCriteria(attr,dt):\n",
    "    dict = {}\n",
    "    #if the target attribute values are only either yes or no, directly return them stating it as the leaf node\n",
    "    if dt[attr[-1]].nunique()<2:\n",
    "        print(str(dt[attr[-1]].unique())+\" leaf node\")\n",
    "        return str(dt[attr[-1]].unique())+\" leaf node\"\n",
    "    for a in attr[:-1]:\n",
    "        for uniqueVal in dt[a].unique():\n",
    "            dt1 = dt[dt[a]==uniqueVal].values.tolist()\n",
    "            dt2 = dt[dt[a]!=uniqueVal].values.tolist()\n",
    "            if(dt[a].nunique()<3):\n",
    "                dict[a+\"-\"+uniqueVal]= GiniIndex([dt1,dt2],classes)\n",
    "                break\n",
    "            dict[a+\"-\"+uniqueVal]= GiniIndex([dt1,dt2],classes)\n",
    "    return list(dict.keys()) if len(dict)<2 else min(dict,key=dict.get)\n"
   ]
  },
  {
   "cell_type": "code",
   "execution_count": 28,
   "id": "5698b7bd",
   "metadata": {},
   "outputs": [],
   "source": [
    "def splitting(attr,dt,array):\n",
    "    if(dt.shape[0]<1): \n",
    "        return array\n",
    "    temp = splittingCriteria(attr,dt)\n",
    "    print(\"Splitting criteria is \",temp)\n",
    "    array.append(temp)\n",
    "    if \"-\" not in temp : \n",
    "        return array\n",
    "    val = temp.split(\"-\")\n",
    "    array = splitting(attr,dt[dt[val[0]]==val[1]],array)\n",
    "    array = splitting(attr,dt[dt[val[0]]!=val[1]],array)\n",
    "    return array"
   ]
  },
  {
   "cell_type": "code",
   "execution_count": 29,
   "id": "0a0ed657",
   "metadata": {},
   "outputs": [
    {
     "name": "stdout",
     "output_type": "stream",
     "text": [
      "  CGPA Interactiveness Practical Knowledge Communication skills Job offer \n",
      "0  >=9             Yes               Vgood                 Good        Yes\n",
      "1  >=8              No                Good             Moderate        Yes\n",
      "2  >=9              No                 Avg                 Poor         No\n",
      "3   <8              No                 Avg                 Good         No\n",
      "4  >=8             Yes                Good             Moderate        Yes\n",
      "5  >=9             Yes                Good             Moderate        Yes\n",
      "6   <8             Yes                Good                 Poor         No\n",
      "7  >=9              No               Vgood                 Good        Yes\n",
      "8  >=8             Yes                Good                 Good        Yes\n",
      "9  >=8             Yes                 Avg                 Good        Yes\n"
     ]
    }
   ],
   "source": [
    "data = pd.read_csv(r\"C:\\Users\\student\\Desktop\\2020503540 ML\\excel_csv_data\\CGPA.csv\")\n",
    "print(data)"
   ]
  },
  {
   "cell_type": "code",
   "execution_count": 30,
   "id": "14c521d7",
   "metadata": {},
   "outputs": [
    {
     "name": "stdout",
     "output_type": "stream",
     "text": [
      "['CGPA', 'Interactiveness', 'Practical Knowledge', 'Communication skills', 'Job offer ']\n"
     ]
    }
   ],
   "source": [
    "attr = data.columns.values.tolist()\n",
    "print(attr)"
   ]
  },
  {
   "cell_type": "code",
   "execution_count": 31,
   "id": "1f3efa5a",
   "metadata": {},
   "outputs": [
    {
     "name": "stdout",
     "output_type": "stream",
     "text": [
      "['Yes', 'No']\n"
     ]
    }
   ],
   "source": [
    "classes = data[attr[-1]].unique().tolist()\n",
    "print(classes)"
   ]
  },
  {
   "cell_type": "code",
   "execution_count": 32,
   "id": "76428b7d",
   "metadata": {},
   "outputs": [
    {
     "name": "stdout",
     "output_type": "stream",
     "text": [
      "Splitting criteria is  CGPA-<8\n",
      "['No'] leaf node\n",
      "Splitting criteria is  ['No'] leaf node\n",
      "Splitting criteria is  Communication skills-Poor\n",
      "['No'] leaf node\n",
      "Splitting criteria is  ['No'] leaf node\n",
      "['Yes'] leaf node\n",
      "Splitting criteria is  ['Yes'] leaf node\n",
      "['CGPA-<8', \"['No'] leaf node\", 'Communication skills-Poor', \"['No'] leaf node\", \"['Yes'] leaf node\"]\n"
     ]
    }
   ],
   "source": [
    "print(splitting(attr,data,array=[]))"
   ]
  },
  {
   "cell_type": "code",
   "execution_count": null,
   "id": "e3d2241c",
   "metadata": {},
   "outputs": [],
   "source": []
  }
 ],
 "metadata": {
  "kernelspec": {
   "display_name": "Python 3 (ipykernel)",
   "language": "python",
   "name": "python3"
  },
  "language_info": {
   "codemirror_mode": {
    "name": "ipython",
    "version": 3
   },
   "file_extension": ".py",
   "mimetype": "text/x-python",
   "name": "python",
   "nbconvert_exporter": "python",
   "pygments_lexer": "ipython3",
   "version": "3.9.13"
  }
 },
 "nbformat": 4,
 "nbformat_minor": 5
}
