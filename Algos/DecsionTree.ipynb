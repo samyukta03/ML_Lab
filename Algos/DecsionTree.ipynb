{
 "cells": [
  {
   "cell_type": "code",
   "execution_count": 1,
   "id": "daee4417",
   "metadata": {},
   "outputs": [
    {
     "name": "stdout",
     "output_type": "stream",
     "text": [
      "     outlook temperature humidity    wind playtennis\n",
      "0      sunny         hot     high    weak         no\n",
      "1      sunny         hot     high  strong         no\n",
      "2   overcast         hot     high    weak        yes\n",
      "3       rain        mild     high    weak        yes\n",
      "4       rain        cool   normal    weak        yes\n",
      "5       rain        cool   normal  strong         no\n",
      "6   overcast        cool   normal  strong        yes\n",
      "7      sunny        mild     high    weak         no\n",
      "8      sunny        cool   normal    weak        yes\n",
      "9       rain        mild   normal    weak        yes\n",
      "10     sunny        mild   normal  strong        yes\n",
      "11  overcast        mild     high  strong        yes\n",
      "12  overcast         hot   normal    weak        yes\n",
      "13      rain        mild     high  strong         no\n"
     ]
    }
   ],
   "source": [
    "import pandas as pd\n",
    "import numpy as np\n",
    "\n",
    "Data = pd.read_excel(r'PlayTennis.xlsx')\n",
    "print(Data)"
   ]
  },
  {
   "cell_type": "code",
   "execution_count": 2,
   "id": "3f4b6645",
   "metadata": {},
   "outputs": [
    {
     "name": "stdout",
     "output_type": "stream",
     "text": [
      "0.9402859586706311\n"
     ]
    }
   ],
   "source": [
    "\n",
    "#Calculating the entropy for the whole dataset (Based on no of yes's and no's)\n",
    "def totalEntropy(df, labelname, labellist):\n",
    "    rows = df.shape[0]\n",
    "    entropy = 0\n",
    "    \n",
    "    for cname in labellist:\n",
    "        cnt = df[df[labelname] == cname].shape[0]\n",
    "        classEntropy = -(cnt/rows)*np.log2(cnt/rows)\n",
    "        entropy += classEntropy #-(yes/tot(log2(yes/tot)+no/tot(log2(no/tot)))\n",
    "        \n",
    "    return entropy"
   ]
  },
  {
   "cell_type": "code",
   "execution_count": 6,
   "id": "75718f87",
   "metadata": {},
   "outputs": [
    {
     "name": "stdout",
     "output_type": "stream",
     "text": [
      "0.9709505944546686\n"
     ]
    }
   ],
   "source": [
    "#Calculating entropy for a specific feature\n",
    "def specificEntropy(fval, labelname, labellist):\n",
    "    cnt = fval.shape[0]\n",
    "    entropy = 0\n",
    "    \n",
    "    for cname in labellist : \n",
    "        rows = fval[fval[labelname] == cname].shape[0]\n",
    "        classentropy =0\n",
    "        if rows != 0:\n",
    "            classProb = rows/cnt\n",
    "            classentropy = -classProb * np.log2(classProb)\n",
    "        entropy += classentropy\n",
    "        \n",
    "    return entropy\n"
   ]
  },
  {
   "cell_type": "code",
   "execution_count": 8,
   "id": "584fdf48",
   "metadata": {},
   "outputs": [
    {
     "name": "stdout",
     "output_type": "stream",
     "text": [
      "0.24674981977443933\n"
     ]
    }
   ],
   "source": [
    "#Calculating infoGain for each feature\n",
    "def infoGain(fname, df,labelname, labellist):\n",
    "    fvals = df[fname].unique()\n",
    "    rows = df.shape[0]\n",
    "    finfo = 0.0\n",
    "    \n",
    "    for fval in fvals:\n",
    "        fdata = df[df[fname] == fval] #Storing the rows with gn feature val\n",
    "        fvalCnt = fdata.shape[0]\n",
    "        fvalEntropy = specificEntropy(fdata, labelname, labellist)\n",
    "        fvalProb = fvalCnt / rows\n",
    "        finfo += fvalProb*fvalEntropy\n",
    "        \n",
    "    return totalEntropy(df,labelname, labellist) - finfo\n"
   ]
  },
  {
   "cell_type": "code",
   "execution_count": 9,
   "id": "d38ac7f9",
   "metadata": {},
   "outputs": [
    {
     "name": "stdout",
     "output_type": "stream",
     "text": [
      "outlook\n"
     ]
    }
   ],
   "source": [
    "#Finding the most informative feature \n",
    "def findMaxGain(df, labelname, labellist):\n",
    "    flist = df.columns.drop(labelname)\n",
    "    \n",
    "    maxinfogain = -1\n",
    "    maxinfofeat = None\n",
    "    \n",
    "    for f in flist:\n",
    "        finfogain = infoGain(f,df,labelname, labellist) #finding gainvalue for each feature\n",
    "        if maxinfogain < finfogain :\n",
    "            maxinfogain = finfogain\n",
    "            maxinfofeat = f                             #finding the maximum gain value\n",
    "            \n",
    "    return maxinfofeat\n"
   ]
  },
  {
   "cell_type": "code",
   "execution_count": 10,
   "id": "16899ced",
   "metadata": {},
   "outputs": [],
   "source": [
    "#Selecting the next most informative node and adding it as a branch to the dtree\n",
    "def makeSubtree(fname, df, labelname, labellist):\n",
    "    fvalcnt = df[fname].value_counts(sort = False)\n",
    "    tree = {}\n",
    "    \n",
    "    for fval, cnt in fvalcnt.iteritems():\n",
    "        fvalData = df[df[fname] == fval ]\n",
    "        \n",
    "        flag = False\n",
    "        \n",
    "        for cname in labellist : \n",
    "            classcnt = fvalData[fvalData[labelname] == cname].shape[0]\n",
    "            \n",
    "            if classcnt == cnt : \n",
    "                tree[fval] = cname\n",
    "                df = df[df[fname] != fval]\n",
    "                flag = True\n",
    "        if not flag :\n",
    "            tree[fval] =\"?\"\n",
    "    return tree, df\n"
   ]
  },
  {
   "cell_type": "code",
   "execution_count": 11,
   "id": "99be44f2",
   "metadata": {},
   "outputs": [],
   "source": [
    "def makeDTree(root, prev, df, labelname, labellist):\n",
    "    if df.shape[0] !=0:\n",
    "        maxInfo = findMaxGain(df, labelname, labellist)\n",
    "        tree , df = makeSubtree(maxInfo, df, labelname,labellist)\n",
    "        nextNode = None\n",
    "        \n",
    "        if prev != None:\n",
    "            root[prev] = dict()\n",
    "            root[prev][maxInfo] = tree\n",
    "            nextNode = root[prev][maxInfo]\n",
    "        else : \n",
    "            root[maxInfo] = tree\n",
    "            nextNode = root[maxInfo]\n",
    "        \n",
    "        for node, branch in list(nextNode.items()) :\n",
    "            if branch =='?':\n",
    "                fvaldata = df[df[maxInfo] == node]\n",
    "                makeDTree(nextNode,node, fvaldata, labelname, labellist)"
   ]
  },
  {
   "cell_type": "code",
   "execution_count": 14,
   "id": "e6e77d0c",
   "metadata": {},
   "outputs": [],
   "source": [
    "def id3DecisionTree(df1, labelname):\n",
    "    df = df1.copy()\n",
    "    tree = {}\n",
    "    labellist = df[labelname].unique()\n",
    "    makeDTree(tree, None, df, labelname, labellist)\n",
    "    return tree"
   ]
  },
  {
   "cell_type": "code",
   "execution_count": 15,
   "id": "3e941616",
   "metadata": {},
   "outputs": [
    {
     "name": "stdout",
     "output_type": "stream",
     "text": [
      "{'outlook': {'sunny': {'humidity': {'high': 'no', 'normal': 'yes'}}, 'overcast': 'yes', 'rain': {'wind': {'weak': 'yes', 'strong': 'no'}}}}\n"
     ]
    }
   ],
   "source": [
    "dtree = id3DecisionTree(Data,'playtennis')\n",
    "print(dtree)\n"
   ]
  },
  {
   "cell_type": "code",
   "execution_count": null,
   "id": "250f3ec7",
   "metadata": {},
   "outputs": [],
   "source": []
  }
 ],
 "metadata": {
  "kernelspec": {
   "display_name": "Python 3 (ipykernel)",
   "language": "python",
   "name": "python3"
  },
  "language_info": {
   "codemirror_mode": {
    "name": "ipython",
    "version": 3
   },
   "file_extension": ".py",
   "mimetype": "text/x-python",
   "name": "python",
   "nbconvert_exporter": "python",
   "pygments_lexer": "ipython3",
   "version": "3.9.13"
  }
 },
 "nbformat": 4,
 "nbformat_minor": 5
}
