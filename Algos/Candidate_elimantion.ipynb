{
 "cells": [
  {
   "cell_type": "code",
   "execution_count": 8,
   "id": "933b48fc",
   "metadata": {},
   "outputs": [
    {
     "data": {
      "text/html": [
       "<div>\n",
       "<style scoped>\n",
       "    .dataframe tbody tr th:only-of-type {\n",
       "        vertical-align: middle;\n",
       "    }\n",
       "\n",
       "    .dataframe tbody tr th {\n",
       "        vertical-align: top;\n",
       "    }\n",
       "\n",
       "    .dataframe thead th {\n",
       "        text-align: right;\n",
       "    }\n",
       "</style>\n",
       "<table border=\"1\" class=\"dataframe\">\n",
       "  <thead>\n",
       "    <tr style=\"text-align: right;\">\n",
       "      <th></th>\n",
       "      <th>Sky</th>\n",
       "      <th>AirTemp</th>\n",
       "      <th>Humidity</th>\n",
       "      <th>Wind</th>\n",
       "      <th>Water</th>\n",
       "      <th>Forecast</th>\n",
       "      <th>EnjoySport</th>\n",
       "    </tr>\n",
       "  </thead>\n",
       "  <tbody>\n",
       "    <tr>\n",
       "      <th>0</th>\n",
       "      <td>Sunny</td>\n",
       "      <td>Warm</td>\n",
       "      <td>Normal</td>\n",
       "      <td>Strong</td>\n",
       "      <td>Warm</td>\n",
       "      <td>Same</td>\n",
       "      <td>Yes</td>\n",
       "    </tr>\n",
       "    <tr>\n",
       "      <th>1</th>\n",
       "      <td>Sunny</td>\n",
       "      <td>Warm</td>\n",
       "      <td>High</td>\n",
       "      <td>Strong</td>\n",
       "      <td>Warm</td>\n",
       "      <td>Same</td>\n",
       "      <td>Yes</td>\n",
       "    </tr>\n",
       "    <tr>\n",
       "      <th>2</th>\n",
       "      <td>Rainy</td>\n",
       "      <td>Cold</td>\n",
       "      <td>High</td>\n",
       "      <td>Strong</td>\n",
       "      <td>Warm</td>\n",
       "      <td>Change</td>\n",
       "      <td>No</td>\n",
       "    </tr>\n",
       "    <tr>\n",
       "      <th>3</th>\n",
       "      <td>Sunny</td>\n",
       "      <td>Warm</td>\n",
       "      <td>High</td>\n",
       "      <td>Strong</td>\n",
       "      <td>Cool</td>\n",
       "      <td>Change</td>\n",
       "      <td>Yes</td>\n",
       "    </tr>\n",
       "    <tr>\n",
       "      <th>4</th>\n",
       "      <td>Sunny</td>\n",
       "      <td>Warm</td>\n",
       "      <td>High</td>\n",
       "      <td>Strong</td>\n",
       "      <td>Cool</td>\n",
       "      <td>Change</td>\n",
       "      <td>No</td>\n",
       "    </tr>\n",
       "  </tbody>\n",
       "</table>\n",
       "</div>"
      ],
      "text/plain": [
       "     Sky AirTemp Humidity    Wind Water  Forecast EnjoySport\n",
       "0  Sunny    Warm   Normal  Strong   Warm     Same        Yes\n",
       "1  Sunny    Warm     High  Strong   Warm     Same        Yes\n",
       "2  Rainy    Cold     High  Strong   Warm   Change         No\n",
       "3  Sunny    Warm     High  Strong   Cool   Change        Yes\n",
       "4  Sunny    Warm     High  Strong   Cool   Change         No"
      ]
     },
     "execution_count": 8,
     "metadata": {},
     "output_type": "execute_result"
    }
   ],
   "source": [
    "import pandas as pd\n",
    "import numpy as np\n",
    "data = pd.read_csv(r\"C:\\Users\\student\\Desktop\\2020503540 ML\\excel_csv_data\\enjoysport.csv\")\n",
    "data.head()"
   ]
  },
  {
   "cell_type": "code",
   "execution_count": 9,
   "id": "feba47a5",
   "metadata": {},
   "outputs": [
    {
     "name": "stdout",
     "output_type": "stream",
     "text": [
      "[['Sunny' 'Warm' 'Normal' 'Strong' 'Warm' 'Same']\n",
      " ['Sunny' 'Warm' 'High' 'Strong' 'Warm' 'Same']\n",
      " ['Rainy' 'Cold' 'High' 'Strong' 'Warm' 'Change']\n",
      " ['Sunny' 'Warm' 'High' 'Strong' 'Cool' 'Change']\n",
      " ['Sunny' 'Warm' 'High' 'Strong' 'Cool' 'Change']\n",
      " ['Sunny' 'Warm' 'High' 'Strong' 'Cool' 'Change']]\n",
      "['Yes' 'Yes' 'No' 'Yes' 'No' 'Yes']\n"
     ]
    }
   ],
   "source": [
    "concepts = np.array(data.iloc[:,0:-1])\n",
    "target = np.array(data.iloc[:,-1])\n",
    "print(concepts)\n",
    "print(target)"
   ]
  },
  {
   "cell_type": "code",
   "execution_count": 20,
   "id": "dfea53c2",
   "metadata": {},
   "outputs": [],
   "source": [
    "def concept_learning_algo(concepts,target):\n",
    "    #initialise the most generarl and specific hypothesis\n",
    "    specific_hypo = concepts[0].copy()\n",
    "    print(\"Specific hypothesis\\n\",specific_hypo)\n",
    "    #general hypo is a square matrix of number of rows and columns as length of specfic hypo length with all values as ?\n",
    "    general_hypo = [[\"?\" for i in range(len(specific_hypo))] for i in range(len(specific_hypo))]\n",
    "    print(\"General hypothesis\\n\",general_hypo)\n",
    "    print(\"Concepts\\n\",concepts)\n",
    "    for i, h in enumerate(concepts):\n",
    "        if target[i] == \"Yes\":\n",
    "            for x in range(len(specific_hypo)):\n",
    "                if h[x] != specific_hypo[x]:\n",
    "                    specific_hypo[x] = '?'\n",
    "                    general_hypo[x][x] = '?'\n",
    "        if target[i] == \"no\":\n",
    "            for x in range(len(specific_hypo)):\n",
    "                if h[x] != specific_hypo[x]:\n",
    "                    general_hypo[x][x] = specific_hypo[x]\n",
    "                else:\n",
    "                    general_hypo[x][x] = '?'\n",
    "    print(\"After\",i+1,\"Steps of candidate elim algo the specific and gen hypo are\")\n",
    "    print(specific_hypo)\n",
    "    print(general_hypo)\n",
    "    indices = [i for i, val in enumerate(general_hypo) if val == ['?', '?', '?', '?', '?', '?']]\n",
    "    print(\"\\nIndices\",indices)\n",
    "    for i in indices:\n",
    "        general_hypo.remove(['?', '?', '?', '?', '?', '?'])\n",
    "    return specific_hypo, general_hypo"
   ]
  },
  {
   "cell_type": "code",
   "execution_count": 24,
   "id": "1547e7dd",
   "metadata": {},
   "outputs": [],
   "source": [
    "def learn(concepts, target):\n",
    "    specific_h = concepts[0].copy()\n",
    "    print(\"Specific hypothesis\\n\",specific_hypo)\n",
    "    #general hypo is a square matrix of number of rows and columns as length of specfic hypo length with all values as ?\n",
    "    general_hypo = [[\"?\" for i in range(len(specific_hypo))] for i in range(len(specific_hypo))]\n",
    "    print(\"General hypothesis\\n\",general_hypo)\n",
    "        print(\"concepts: \",concepts)\n",
    "    for i, h in enumerate(concepts):\n",
    "        if target[i] == \"yes\":\n",
    "            for x in range(len(specific_h)):\n",
    "                if h[x] != specific_h[x]:\n",
    "                    specific_h[x] = '?'\n",
    "                    general_h[x][x] = '?'\n",
    "        if target[i] == \"no\":\n",
    "            for x in range(len(specific_h)):\n",
    "                if h[x] != specific_h[x]:\n",
    "                    general_h[x][x] = specific_h[x]\n",
    "                else:\n",
    "                    general_h[x][x] = '?'\n",
    "    print(\"After\",i+1,\"Steps of candidate elim algo the specific and gen hypo are\")\n",
    "    print(specific_h)\n",
    "    print(\"\\n\")\n",
    "    print(general_h)\n",
    "    indices = [i for i, val in enumerate(general_h) if val == ['?', '?', '?', '?', '?', '?']]\n",
    "    print(\"\\nIndices\",indices)\n",
    "    for i in indices:\n",
    "        general_h.remove(['?', '?', '?', '?', '?', '?'])\n",
    "    return specific_h, general_h"
   ]
  },
  {
   "cell_type": "code",
   "execution_count": 25,
   "id": "93535cf5",
   "metadata": {
    "scrolled": true
   },
   "outputs": [
    {
     "name": "stdout",
     "output_type": "stream",
     "text": [
      "Initialization of specific_h and general_h\n",
      "specific_h:  ['Sunny' 'Warm' 'Normal' 'Strong' 'Warm' 'Same']\n",
      "general_h:  [['?', '?', '?', '?', '?', '?'], ['?', '?', '?', '?', '?', '?'], ['?', '?', '?', '?', '?', '?'], ['?', '?', '?', '?', '?', '?'], ['?', '?', '?', '?', '?', '?'], ['?', '?', '?', '?', '?', '?']]\n",
      "concepts:  [['Sunny' 'Warm' 'Normal' 'Strong' 'Warm' 'Same']\n",
      " ['Sunny' 'Warm' 'High' 'Strong' 'Warm' 'Same']\n",
      " ['Rainy' 'Cold' 'High' 'Strong' 'Warm' 'Change']\n",
      " ['Sunny' 'Warm' 'High' 'Strong' 'Cool' 'Change']\n",
      " ['Sunny' 'Warm' 'High' 'Strong' 'Cool' 'Change']\n",
      " ['Sunny' 'Warm' 'High' 'Strong' 'Cool' 'Change']]\n",
      "After 6 Steps of candidate elim algo the specific and gen hypo are\n",
      "['Sunny' 'Warm' 'Normal' 'Strong' 'Warm' 'Same']\n",
      "\n",
      "\n",
      "[['?', '?', '?', '?', '?', '?'], ['?', '?', '?', '?', '?', '?'], ['?', '?', '?', '?', '?', '?'], ['?', '?', '?', '?', '?', '?'], ['?', '?', '?', '?', '?', '?'], ['?', '?', '?', '?', '?', '?']]\n",
      "\n",
      "Indices [0, 1, 2, 3, 4, 5]\n",
      "\n",
      "Final Specific hypothesis:\n",
      "['Sunny' 'Warm' 'Normal' 'Strong' 'Warm' 'Same']\n",
      "Final General hypothesis:\n",
      "[]\n"
     ]
    }
   ],
   "source": [
    "s_final,g_final = learn(concepts, target)\n",
    "print(\"\\nFinal Specific hypothesis:\", s_final, sep=\"\\n\")\n",
    "print(\"Final General hypothesis:\", g_final, sep=\"\\n\")"
   ]
  },
  {
   "cell_type": "code",
   "execution_count": 21,
   "id": "4595f790",
   "metadata": {
    "scrolled": true
   },
   "outputs": [
    {
     "name": "stdout",
     "output_type": "stream",
     "text": [
      "Specific hypothesis\n",
      " ['Sunny' 'Warm' 'Normal' 'Strong' 'Warm' 'Same']\n",
      "General hypothesis\n",
      " [['?', '?', '?', '?', '?', '?'], ['?', '?', '?', '?', '?', '?'], ['?', '?', '?', '?', '?', '?'], ['?', '?', '?', '?', '?', '?'], ['?', '?', '?', '?', '?', '?'], ['?', '?', '?', '?', '?', '?']]\n",
      "Concepts\n",
      " [['Sunny' 'Warm' 'Normal' 'Strong' 'Warm' 'Same']\n",
      " ['Sunny' 'Warm' 'High' 'Strong' 'Warm' 'Same']\n",
      " ['Rainy' 'Cold' 'High' 'Strong' 'Warm' 'Change']\n",
      " ['Sunny' 'Warm' 'High' 'Strong' 'Cool' 'Change']\n",
      " ['Sunny' 'Warm' 'High' 'Strong' 'Cool' 'Change']\n",
      " ['Sunny' 'Warm' 'High' 'Strong' 'Cool' 'Change']]\n",
      "After 6 Steps of candidate elim algo the specific and gen hypo are\n",
      "['Sunny' 'Warm' '?' 'Strong' '?' '?']\n",
      "[['?', '?', '?', '?', '?', '?'], ['?', '?', '?', '?', '?', '?'], ['?', '?', '?', '?', '?', '?'], ['?', '?', '?', '?', '?', '?'], ['?', '?', '?', '?', '?', '?'], ['?', '?', '?', '?', '?', '?']]\n",
      "\n",
      "Indices [0, 1, 2, 3, 4, 5]\n",
      "\n",
      "Final Specific hypothesis:\n",
      "['Sunny' 'Warm' '?' 'Strong' '?' '?']\n",
      "Final General hypothesis:\n",
      "[]\n"
     ]
    }
   ],
   "source": [
    "s_final,g_final = concept_learning_algo(concepts, target)\n",
    "print(\"\\nFinal Specific hypothesis:\", s_final, sep=\"\\n\")\n",
    "print(\"Final General hypothesis:\", g_final, sep=\"\\n\")"
   ]
  },
  {
   "cell_type": "code",
   "execution_count": null,
   "id": "636cdf76",
   "metadata": {},
   "outputs": [],
   "source": []
  }
 ],
 "metadata": {
  "kernelspec": {
   "display_name": "Python 3 (ipykernel)",
   "language": "python",
   "name": "python3"
  },
  "language_info": {
   "codemirror_mode": {
    "name": "ipython",
    "version": 3
   },
   "file_extension": ".py",
   "mimetype": "text/x-python",
   "name": "python",
   "nbconvert_exporter": "python",
   "pygments_lexer": "ipython3",
   "version": "3.9.13"
  }
 },
 "nbformat": 4,
 "nbformat_minor": 5
}
