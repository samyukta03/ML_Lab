{
 "cells": [
  {
   "cell_type": "code",
   "execution_count": 1,
   "metadata": {},
   "outputs": [
    {
     "name": "stdout",
     "output_type": "stream",
     "text": [
      "Instance attribute values : \n",
      "[['Sunny' 'Hot' 'High' 'Weak']\n",
      " ['Sunny' 'Hot' 'High' 'Strong']\n",
      " ['Overcast' 'Hot' 'High' 'Weak']\n",
      " ['Rain' 'Mild' 'High' 'Weak']\n",
      " ['Rain' 'Cool' 'Normal' 'Weak']\n",
      " ['Rain' 'Cool' 'Normal' 'Strong']\n",
      " ['Overcast' 'Cool' 'Normal' 'Strong']\n",
      " ['Sunny' 'Mild' 'High' 'Weak']\n",
      " ['Sunny' 'Cool' 'Normal' 'Weak']\n",
      " ['Rain' 'Mild' 'Normal' 'Weak']\n",
      " ['Sunny' 'Mild' 'Normal' 'Strong']\n",
      " ['Overcast' 'Mild' 'High' 'Strong']\n",
      " ['Overcast' 'Hot' 'Normal' 'Weak']\n",
      " ['Rain' 'Mild' 'High' 'Strong']]\n",
      "Target attribute values : \n",
      "['No' 'No' 'Yes' 'Yes' 'Yes' 'No' 'Yes' 'No' 'Yes' 'Yes' 'Yes' 'Yes' 'Yes'\n",
      " 'No']\n"
     ]
    }
   ],
   "source": [
    "import pandas as pd\n",
    "import numpy as np\n",
    "import itertools\n",
    "data = pd.read_csv(r\"E:\\MIT-6\\ML\\ML Algos Lab\\Data\\PlayTennis.csv\")\n",
    "print(\"Instance attribute values : \")\n",
    "instance = np.array(data.iloc[:,:-1])\n",
    "print(instance)\n",
    "print(\"Target attribute values : \")\n",
    "target = np.array(data.iloc[:,-1])\n",
    "print(target)\n"
   ]
  },
  {
   "cell_type": "code",
   "execution_count": 4,
   "metadata": {},
   "outputs": [
    {
     "name": "stdout",
     "output_type": "stream",
     "text": [
      "List of Hypotheses in version space after eliminating non matching ones : \n",
      "[('Sunny', 'Hot', 'High', 'Weak'), ('Sunny', 'Hot', 'High', 'Strong'), ('Sunny', 'Hot', 'High', '?'), ('Sunny', 'Hot', 'Normal', 'Weak'), ('Sunny', 'Hot', 'Normal', 'Strong'), ('Sunny', 'Hot', 'Normal', '?'), ('Sunny', 'Hot', '?', 'Weak'), ('Sunny', 'Hot', '?', 'Strong'), ('Sunny', 'Hot', '?', '?'), ('Sunny', 'Cool', 'High', 'Weak'), ('Sunny', 'Cool', 'High', 'Strong'), ('Sunny', 'Cool', 'High', '?'), ('Sunny', 'Cool', 'Normal', 'Strong'), ('Sunny', 'Cool', '?', 'Strong'), ('Sunny', 'Mild', 'High', 'Weak'), ('Sunny', 'Mild', 'High', 'Strong'), ('Sunny', 'Mild', 'High', '?'), ('Sunny', 'Mild', 'Normal', 'Weak'), ('Sunny', 'Mild', '?', 'Weak'), ('Sunny', '?', 'High', 'Weak'), ('Sunny', '?', 'High', 'Strong'), ('Sunny', '?', 'High', '?'), ('Rain', 'Hot', 'High', 'Weak'), ('Rain', 'Hot', 'High', 'Strong'), ('Rain', 'Hot', 'High', '?'), ('Rain', 'Hot', 'Normal', 'Weak'), ('Rain', 'Hot', 'Normal', 'Strong'), ('Rain', 'Hot', 'Normal', '?'), ('Rain', 'Hot', '?', 'Weak'), ('Rain', 'Hot', '?', 'Strong'), ('Rain', 'Hot', '?', '?'), ('Rain', 'Cool', 'High', 'Weak'), ('Rain', 'Cool', 'High', 'Strong'), ('Rain', 'Cool', 'High', '?'), ('Rain', 'Cool', 'Normal', 'Strong'), ('Rain', 'Cool', '?', 'Strong'), ('Rain', 'Mild', 'High', 'Strong'), ('Rain', 'Mild', 'Normal', 'Strong'), ('Rain', 'Mild', '?', 'Strong'), ('Rain', '?', 'High', 'Strong'), ('Rain', '?', 'Normal', 'Strong'), ('Rain', '?', '?', 'Strong'), ('Overcast', 'Hot', 'High', 'Strong'), ('Overcast', 'Hot', 'Normal', 'Strong'), ('Overcast', 'Hot', '?', 'Strong'), ('Overcast', 'Cool', 'High', 'Weak'), ('Overcast', 'Cool', 'High', 'Strong'), ('Overcast', 'Cool', 'High', '?'), ('Overcast', 'Cool', 'Normal', 'Weak'), ('Overcast', 'Cool', '?', 'Weak'), ('Overcast', 'Mild', 'High', 'Weak'), ('Overcast', 'Mild', 'Normal', 'Weak'), ('Overcast', 'Mild', 'Normal', 'Strong'), ('Overcast', 'Mild', 'Normal', '?'), ('Overcast', 'Mild', '?', 'Weak'), ('?', 'Hot', 'High', 'Strong'), ('?', 'Hot', 'Normal', 'Strong'), ('?', 'Hot', '?', 'Strong'), ('?', 'Cool', 'High', 'Weak'), ('?', 'Cool', 'High', 'Strong'), ('?', 'Cool', 'High', '?'), ('$', '$', '$', '$')]\n"
     ]
    }
   ],
   "source": [
    "HypoList = []\n",
    "#adding all possible hypotheses to the version space\n",
    "for i in range(0,4):\n",
    "    HypoList.append(list(set(data.iloc[:,i])))\n",
    "for i in HypoList:\n",
    "    i.append('?')\n",
    "total_hypo = list(itertools.product(*HypoList))\n",
    "# add a special hypothesis with all attribute values set to $, which represents the most generic hypothesis.\n",
    "total_hypo.append(tuple(['$' for i in range(4)]))\n",
    "# the number of instances in the target attribute that have a value of 'Yes' and store it in the variable yes.will use this variable to remove inconsistent hypotheses\n",
    "yes = list(target).count(\"yes\")\n",
    "c=[]\n",
    "#removing inconsistent ones\n",
    "for tup in total_hypo: \n",
    "# for each tuple in total hypothesis set,it compares the attribute values of tup with the attribute values of each training example x,\n",
    "    of = 0\n",
    "    for j,x in enumerate(instance):\n",
    "        flag = 0\n",
    "        for i in range(4):\n",
    "            # ounts the number of attributes that match or are set to ?. \n",
    "            if (tup[i]==x[i]) or tup[i]=='?':\n",
    "                flag+=1\n",
    "        if flag==4:\n",
    "            # If all the attributes of tup match with the attributes of x or are set to ?, then it checks if the target value of x is 'Yes'\n",
    "            if target[j]=='Yes':\n",
    "                of+=1\n",
    "# if the count of equals the number of training examples that have a target value of 'Yes', then the hypothesis tup is consistent with the training data.\n",
    "    if of==yes:\n",
    "        c.append(tup) #all such tuples are added to the list c \n",
    "print(\"List of Hypotheses in version space after eliminating non matching ones : \")\n",
    "print(c)"
   ]
  }
 ],
 "metadata": {
  "kernelspec": {
   "display_name": "Python 3",
   "language": "python",
   "name": "python3"
  },
  "language_info": {
   "codemirror_mode": {
    "name": "ipython",
    "version": 3
   },
   "file_extension": ".py",
   "mimetype": "text/x-python",
   "name": "python",
   "nbconvert_exporter": "python",
   "pygments_lexer": "ipython3",
   "version": "3.7.0"
  },
  "orig_nbformat": 4,
  "vscode": {
   "interpreter": {
    "hash": "fdb543c4eaccb2c43ef1f99da41737654f0c8d7aa960b0cd65bcf594bfbe5a9e"
   }
  }
 },
 "nbformat": 4,
 "nbformat_minor": 2
}
